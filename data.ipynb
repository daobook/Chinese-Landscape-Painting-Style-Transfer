{
 "cells": [
  {
   "cell_type": "code",
   "execution_count": 3,
   "metadata": {},
   "outputs": [],
   "source": [
    "from pathlib import Path\n",
    "from zipfile import ZipFile"
   ]
  },
  {
   "cell_type": "code",
   "execution_count": 15,
   "metadata": {},
   "outputs": [],
   "source": [
    "!git clone https://github.com/alicex2020/Chinese-Landscape-Painting-Dataset.git"
   ]
  },
  {
   "cell_type": "code",
   "execution_count": 16,
   "metadata": {},
   "outputs": [
    {
     "name": "stdout",
     "output_type": "stream",
     "text": [
      "Metropolitan-1.zip\n",
      "Metropolitan-2.zip\n",
      "Smithsonian-7.zip\n",
      "Smithsonian-6.zip\n",
      "Smithsonian-4.zip\n",
      "Smithsonian-1.zip\n",
      "Smithsonian-5.zip\n",
      "Smithsonian-3.zip\n",
      "Smithsonian-2.zip\n",
      "Princeton-1.zip\n",
      "Princeton-2.zip\n",
      "Harvard-1.zip\n"
     ]
    }
   ],
   "source": [
    "# root = '/media/pc/data/4tb/xinet/Chinese-Landscape-Painting-Dataset/All-Paintings'\n",
    "root = 'Chinese-Landscape-Painting-Dataset/All-Paintings'\n",
    "for file in Path(root).rglob('*.zip'):\n",
    "    print(file.name)\n",
    "    with ZipFile(file) as Z:\n",
    "        Z.extractall('data')"
   ]
  }
 ],
 "metadata": {
  "interpreter": {
   "hash": "78526419bf48930935ba7e23437b2460cb231485716b036ebb8701887a294fa8"
  },
  "kernelspec": {
   "display_name": "Python 3.10.0 ('torchx')",
   "language": "python",
   "name": "python3"
  },
  "language_info": {
   "codemirror_mode": {
    "name": "ipython",
    "version": 3
   },
   "file_extension": ".py",
   "mimetype": "text/x-python",
   "name": "python",
   "nbconvert_exporter": "python",
   "pygments_lexer": "ipython3",
   "version": "3.10.0"
  },
  "orig_nbformat": 4
 },
 "nbformat": 4,
 "nbformat_minor": 2
}
